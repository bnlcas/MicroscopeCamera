{
 "cells": [
  {
   "cell_type": "markdown",
   "metadata": {},
   "source": [
    "#### Color Calibration\n",
    "Contains code to take a sample image with known color targets and find the color correction matrix which best approximates the transformation from observed to theoretical color spaces."
   ]
  },
  {
   "cell_type": "code",
   "execution_count": 113,
   "metadata": {},
   "outputs": [],
   "source": [
    "import numpy as np\n",
    "import scipy.spatial as space\n",
    "import scipy.stats as stats"
   ]
  },
  {
   "cell_type": "code",
   "execution_count": 70,
   "metadata": {},
   "outputs": [],
   "source": [
    "def MeasureColorCorrection(X,Y):\n",
    "    cov = np.matmul(np.transpose(X), Y)\n",
    "    U, S, Vt = np.linalg.svd(cov)\n",
    "    V = np.transpose(Vt)\n",
    "    Ut = np.transpose(U)\n",
    "    VUt = np.matmul(V, Ut)\n",
    "    d = np.linalg.det(VUt)\n",
    "    print(d)\n",
    "    CCM = np.matmul(V, np.matmul(np.diag([1,1,d]), Ut))\n",
    "    return CCM"
   ]
  },
  {
   "cell_type": "code",
   "execution_count": 71,
   "metadata": {},
   "outputs": [],
   "source": [
    "Observed_Data = np.random.rand(1000,3)\n",
    "color_correction_matrix = stats.ortho_group.rvs(3)#np.random.rand(3,3)"
   ]
  },
  {
   "cell_type": "code",
   "execution_count": 83,
   "metadata": {},
   "outputs": [],
   "source": [
    "centroids = np.mean(Observed_Data,0)\n",
    "Observed_Data = np.subtract(Observed_Data, centroids)"
   ]
  },
  {
   "cell_type": "code",
   "execution_count": 123,
   "metadata": {},
   "outputs": [
    {
     "name": "stdout",
     "output_type": "stream",
     "text": [
      "-1.0000000000000002\n",
      "[[-0.07294375  0.96996409  0.23205359]\n",
      " [-0.95522904 -0.13484038  0.26335442]\n",
      " [ 0.28673452 -0.20245426  0.93637364]]\n"
     ]
    }
   ],
   "source": [
    "y_perfect = np.matmul(Observed_Data, color_correction_matrix)\n",
    "y_test = np.add(np.matmul(Observed_Data, color_correction_matrix), 0.01 * np.random.randn(1000,3))\n",
    "y_test = np.subtract(y_test, np.mean(y_test,0))\n",
    "ccm = MeasureColorCorrection(Observed_Data, y_test)\n",
    "print(ccm)\n",
    "y_ccm = np.matmul(Observed_Data, ccm)"
   ]
  },
  {
   "cell_type": "code",
   "execution_count": 124,
   "metadata": {},
   "outputs": [
    {
     "name": "stdout",
     "output_type": "stream",
     "text": [
      "[[ 0.51174662  0.26333612 -0.28489922]\n",
      " [ 0.19734383 -0.24881009  0.71661283]\n",
      " [-0.16208416  0.33134522 -0.41864969]]\n",
      "\n",
      "\n",
      "[[ 0.51745559  0.26578396 -0.28329771]\n",
      " [ 0.19966632 -0.25624228  0.71733218]\n",
      " [-0.15860347  0.33681645 -0.40724026]]\n",
      "\n",
      "\n",
      "[[ 0.55209837 -0.29544229  0.14247571]\n",
      " [-0.35642085  0.22382036  0.66125156]\n",
      " [ 0.16752098 -0.31287663 -0.43055014]]\n"
     ]
    }
   ],
   "source": [
    "print(y_perfect[0:3,:])\n",
    "print('\\n')\n",
    "print(y_test[0:3,:])\n",
    "print('\\n')\n",
    "print(y_ccm[0:3,:])"
   ]
  },
  {
   "cell_type": "code",
   "execution_count": 125,
   "metadata": {},
   "outputs": [
    {
     "name": "stdout",
     "output_type": "stream",
     "text": [
      "[[ 0.04193588 -0.97847082  0.2020798 ]\n",
      " [-0.48008896  0.15764345  0.86293866]\n",
      " [ 0.87621685  0.13320437  0.46314212]]\n",
      "[[-0.07294375  0.96996409  0.23205359]\n",
      " [-0.95522904 -0.13484038  0.26335442]\n",
      " [ 0.28673452 -0.20245426  0.93637364]]\n"
     ]
    }
   ],
   "source": [
    "print(color_correction_matrix)\n",
    "print(ccm)"
   ]
  },
  {
   "cell_type": "code",
   "execution_count": 50,
   "metadata": {},
   "outputs": [
    {
     "name": "stdout",
     "output_type": "stream",
     "text": [
      "-0.9999999999999996\n"
     ]
    }
   ],
   "source": [
    "cov = np.matmul(np.transpose(X), Y)\n",
    "U, S, Vt = np.linalg.svd(cov)\n",
    "V = np.transpose(Vt)\n",
    "Ut = np.transpose(U)\n",
    "VUt = np.matmul(V, Ut)\n",
    "d = np.linalg.det(VUt)\n",
    "print(d)"
   ]
  },
  {
   "cell_type": "code",
   "execution_count": null,
   "metadata": {},
   "outputs": [],
   "source": [
    "np.linalg()"
   ]
  }
 ],
 "metadata": {
  "kernelspec": {
   "display_name": "Python 3",
   "language": "python",
   "name": "python3"
  },
  "language_info": {
   "codemirror_mode": {
    "name": "ipython",
    "version": 3
   },
   "file_extension": ".py",
   "mimetype": "text/x-python",
   "name": "python",
   "nbconvert_exporter": "python",
   "pygments_lexer": "ipython3",
   "version": "3.6.4"
  }
 },
 "nbformat": 4,
 "nbformat_minor": 2
}
